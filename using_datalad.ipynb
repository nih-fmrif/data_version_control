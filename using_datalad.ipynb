{
 "cells": [
  {
   "cell_type": "markdown",
   "metadata": {},
   "source": [
    "# Datalad example"
   ]
  },
  {
   "cell_type": "markdown",
   "metadata": {},
   "source": [
    "This is a run through of the help documents at datalad.org\n",
    "http://datalad.org/asciicast/reproducible_analysis.sh"
   ]
  },
  {
   "cell_type": "code",
   "execution_count": 10,
   "metadata": {},
   "outputs": [],
   "source": [
    "cd /data/rodgersleejg\n"
   ]
  },
  {
   "cell_type": "code",
   "execution_count": 12,
   "metadata": {},
   "outputs": [
    {
     "name": "stdout",
     "output_type": "stream",
     "text": [
      "[\u001b[1;37mINFO   \u001b[0m] Creating a new annex repo at /data/rodgersleejg/datalad_demo \n",
      "\r",
      "Total:   0%|                                         | 0.00/21.0 [00:00<?, ?B/s]\r",
      "                                                                                \r",
      "\r",
      "Total:   0%|                                          | 0.00/233 [00:00<?, ?B/s]\r",
      "                                                                                \r",
      "\r",
      "Total:   0%|                                          | 0.00/233 [00:00<?, ?B/s]\r",
      "                                                                                \r",
      "\u001b[1;1mcreate\u001b[0m(\u001b[1;32mok\u001b[0m): /data/rodgersleejg/datalad_demo (\u001b[1;35mdataset\u001b[0m)\n"
     ]
    }
   ],
   "source": [
    "datalad create datalad_demo"
   ]
  },
  {
   "cell_type": "code",
   "execution_count": 14,
   "metadata": {},
   "outputs": [],
   "source": [
    "cd datalad_demo"
   ]
  },
  {
   "cell_type": "code",
   "execution_count": 16,
   "metadata": {},
   "outputs": [
    {
     "name": "stdout",
     "output_type": "stream",
     "text": [
      "git-annex version: 6.20171018-ge0966bbb1\n",
      "build flags: Assistant Webapp Pairing Testsuite S3(multipartupload)(storageclasses) WebDAV Inotify DBus DesktopNotify ConcurrentOutput TorrentParser MagicMime Feeds Quvi\n",
      "dependency versions: aws-0.14.1 bloomfilter-2.0.1.0 cryptonite-0.20 DAV-1.3.1 feed-0.3.11.1 ghc-8.0.1 http-client-0.4.31.1 persistent-sqlite-2.6 torrent-10000.0.0 uuid-1.3.12 yesod-1.4.3\n",
      "key/value backends: SHA256E SHA256 SHA512E SHA512 SHA224E SHA224 SHA384E SHA384 SHA3_256E SHA3_256 SHA3_512E SHA3_512 SHA3_224E SHA3_224 SHA3_384E SHA3_384 SKEIN256E SKEIN256 SKEIN512E SKEIN512 SHA1E SHA1 MD5E MD5 WORM URL\n",
      "remote types: git gcrypt p2p S3 bup directory rsync web bittorrent webdav tahoe glacier ddar hook external\n",
      "local repository version: 5\n",
      "supported repository versions: 3 5 6\n",
      "upgrade supported from repository versions: 0 1 2 3 4 5\n",
      "operating system: linux x86_64\n"
     ]
    }
   ],
   "source": [
    "git annex version"
   ]
  },
  {
   "cell_type": "code",
   "execution_count": 17,
   "metadata": {},
   "outputs": [],
   "source": [
    "git config --global annex.largefiles 'largerthan=100mb or (include=*.nii.gz or include=*.tgz or include=*.tar.gz or include=*.dcm )'"
   ]
  },
  {
   "cell_type": "markdown",
   "metadata": {},
   "source": [
    "## Add datasets"
   ]
  },
  {
   "cell_type": "code",
   "execution_count": 18,
   "metadata": {},
   "outputs": [
    {
     "name": "stdout",
     "output_type": "stream",
     "text": [
      "[\u001b[1;37mINFO   \u001b[0m] Cloning http://datasets.datalad.org/openfmri/ds000001 to '/data/rodgersleejg/datalad_demo/inputs/ds000001' \n",
      "\u001b[1;1madd\u001b[0m(\u001b[1;32mok\u001b[0m): inputs/ds000001 (\u001b[1;35mdataset\u001b[0m) [added new subdataset]\n",
      "\r",
      "Total:   0%|                                          | 0.00/112 [00:00<?, ?B/s]\r",
      "                                                                                \r",
      "\u001b[1;1madd\u001b[0m(\u001b[1;32mnotneeded\u001b[0m): inputs/ds000001 (\u001b[1;35mdataset\u001b[0m) [nothing to add from /data/rodgersleejg/datalad_demo/inputs/ds000001]\n",
      "\u001b[1;1madd\u001b[0m(\u001b[1;32mnotneeded\u001b[0m): .gitmodules (\u001b[1;35mfile\u001b[0m) [already included in the dataset]\n",
      "\r",
      "Total:   0%|                                          | 0.00/112 [00:00<?, ?B/s]\r",
      "                                                                                \r",
      "\u001b[1;1msave\u001b[0m(\u001b[1;32mok\u001b[0m): /data/rodgersleejg/datalad_demo (\u001b[1;35mdataset\u001b[0m)\n",
      "[\u001b[1;37mINFO   \u001b[0m] access to dataset sibling \"datalad\" not auto-enabled, enable with:\n",
      "| \t\tdatalad siblings -d \"/data/rodgersleejg/datalad_demo/inputs/ds000001\" enable -s datalad \n",
      "\u001b[1;1minstall\u001b[0m(\u001b[1;32mok\u001b[0m): inputs/ds000001 (\u001b[1;35mdataset\u001b[0m)\n",
      "action summary:\n",
      "  add (notneeded: 2, ok: 1)\n",
      "  install (ok: 1)\n",
      "  save (ok: 1)\n",
      "[\u001b[1;37mINFO   \u001b[0m] Cloning http://datasets.datalad.org/openfmri/ds000002 to '/data/rodgersleejg/datalad_demo/inputs/ds000002' \n",
      "\u001b[1;1madd\u001b[0m(\u001b[1;32mok\u001b[0m): inputs/ds000002 (\u001b[1;35mdataset\u001b[0m) [added new subdataset]\n",
      "\r",
      "Total:   0%|                                          | 0.00/224 [00:00<?, ?B/s]\r",
      "                                                                                \r",
      "\u001b[1;1madd\u001b[0m(\u001b[1;32mnotneeded\u001b[0m): inputs/ds000002 (\u001b[1;35mdataset\u001b[0m) [nothing to add from /data/rodgersleejg/datalad_demo/inputs/ds000002]\n",
      "\u001b[1;1madd\u001b[0m(\u001b[1;32mnotneeded\u001b[0m): .gitmodules (\u001b[1;35mfile\u001b[0m) [already included in the dataset]\n",
      "\r",
      "Total:   0%|                                          | 0.00/224 [00:00<?, ?B/s]\r",
      "                                                                                \r",
      "\u001b[1;1msave\u001b[0m(\u001b[1;32mok\u001b[0m): /data/rodgersleejg/datalad_demo (\u001b[1;35mdataset\u001b[0m)\n",
      "[\u001b[1;37mINFO   \u001b[0m] access to dataset sibling \"datalad\" not auto-enabled, enable with:\n",
      "| \t\tdatalad siblings -d \"/data/rodgersleejg/datalad_demo/inputs/ds000002\" enable -s datalad \n",
      "\u001b[1;1minstall\u001b[0m(\u001b[1;32mok\u001b[0m): inputs/ds000002 (\u001b[1;35mdataset\u001b[0m)\n",
      "action summary:\n",
      "  add (notneeded: 2, ok: 1)\n",
      "  install (ok: 1)\n",
      "  save (ok: 1)\n"
     ]
    }
   ],
   "source": [
    "# For this demo we are using two public brain imaging datasets that\n",
    "# were published on OpenFMRI.org, and are available from DataLad's\n",
    "# datasets.datalad.org\n",
    "datalad install -d . -s ///openfmri/ds000001 inputs/ds000001 # -d for subdataset\n",
    "\n",
    "# BTW: '///' is just short for http://datasets.datalad.org\n",
    "datalad install -d . -s ///openfmri/ds000002 inputs/ds000002"
   ]
  },
  {
   "cell_type": "code",
   "execution_count": 19,
   "metadata": {},
   "outputs": [
    {
     "name": "stdout",
     "output_type": "stream",
     "text": [
      "\u001b[1;1msubdataset\u001b[0m(\u001b[1;32mok\u001b[0m): inputs/ds000001 (\u001b[1;35mdataset\u001b[0m)\n",
      "\u001b[1;1msubdataset\u001b[0m(\u001b[1;32mok\u001b[0m): inputs/ds000002 (\u001b[1;35mdataset\u001b[0m)\n",
      "action summary:\n",
      "  subdataset (ok: 2)\n"
     ]
    }
   ],
   "source": [
    "datalad subdatasets"
   ]
  },
  {
   "cell_type": "markdown",
   "metadata": {},
   "source": [
    "## Add some code"
   ]
  },
  {
   "cell_type": "code",
   "execution_count": 37,
   "metadata": {},
   "outputs": [],
   "source": [
    "# DataLad datasets are fairly lightweight in size, they only contain\n",
    "# pointers to data and history information in their minimal form.\n",
    "\n",
    "# Both datasets contain brain imaging data, and are compliant with\n",
    "# the BIDS standard. This makes it really easy to locate particular\n",
    "# images and perform analysis across datasets.\n",
    "\n",
    "# Here we will use a small script that performs 'brain extraction'\n",
    "# using FSL as a stand-in for a full analysis pipeline\n",
    "mkdir code"
   ]
  },
  {
   "cell_type": "code",
   "execution_count": 38,
   "metadata": {},
   "outputs": [],
   "source": [
    "cat << EOT > code/brain_extraction.sh\n",
    "# enable FSL\n",
    "module load fsl\n",
    "prefix=`date +%s`\n",
    "mkdir \\$prefix\n",
    "# obtain all inputs\n",
    "datalad get \\$@\n",
    "# perform brain extraction\n",
    "count=1\n",
    "for nifti in \\$@; do\n",
    "  subdir=\"sub-\\$(printf 000\\$count)\"\n",
    "  echo \"Processing \\$nifti\"\n",
    "  bet \\$nifti \\$prefix/\\${subdir}_anat -m\n",
    "  count=\\$((count + 1)) \n",
    "done\n",
    "EOT"
   ]
  },
  {
   "cell_type": "code",
   "execution_count": 39,
   "metadata": {},
   "outputs": [
    {
     "name": "stdout",
     "output_type": "stream",
     "text": [
      "# enable FSL\n",
      "module load fsl\n",
      "prefix=1513888804\n",
      "mkdir $prefix\n",
      "# obtain all inputs\n",
      "datalad get $@\n",
      "# perform brain extraction\n",
      "count=1\n",
      "for nifti in $@; do\n",
      "  subdir=\"sub-$(printf 000$count)\"\n",
      "  echo \"Processing $nifti\"\n",
      "  bet $nifti $prefix/${subdir}_anat -m\n",
      "  count=$((count + 1)) \n",
      "done\n"
     ]
    }
   ],
   "source": [
    "cat code/brain_extraction.sh"
   ]
  },
  {
   "cell_type": "code",
   "execution_count": null,
   "metadata": {},
   "outputs": [],
   "source": []
  },
  {
   "cell_type": "code",
   "execution_count": 40,
   "metadata": {},
   "outputs": [
    {
     "name": "stdout",
     "output_type": "stream",
     "text": [
      "\r",
      "Total:   0%|                                          | 0.00/281 [00:00<?, ?B/s]\r",
      "                                                                                \r",
      "\u001b[1;1madd\u001b[0m(\u001b[1;32mok\u001b[0m): /data/rodgersleejg/datalad_demo/code/brain_extraction.sh (\u001b[1;35mfile\u001b[0m) [non-large file; adding content to git repository]\n",
      "\u001b[1;1madd\u001b[0m(\u001b[1;32mok\u001b[0m): /data/rodgersleejg/datalad_demo/code (\u001b[1;35mdirectory\u001b[0m)\n",
      "\u001b[1;1msave\u001b[0m(\u001b[1;32mok\u001b[0m): /data/rodgersleejg/datalad_demo (\u001b[1;35mdataset\u001b[0m)\n",
      "action summary:\n",
      "  add (ok: 2)\n",
      "  save (ok: 1)\n"
     ]
    }
   ],
   "source": [
    "# add to git (will be automatic for scripts if largefiles config is set)\n",
    "datalad add code -m \"Brain extraction script\" --to-git\n",
    "## don't necessarily need to git flag because of the large files config we set earlier"
   ]
  },
  {
   "cell_type": "code",
   "execution_count": 42,
   "metadata": {},
   "outputs": [
    {
     "name": "stdout",
     "output_type": "stream",
     "text": [
      "\u001b[1;1msave\u001b[0m(\u001b[1;32mok\u001b[0m): /gpfs/gsfs5/users/rodgersleejg/datalad_demo (\u001b[1;35mdataset\u001b[0m)\n"
     ]
    }
   ],
   "source": [
    "# In addition, we will \"tag\" this state of the dataset. This is\n",
    "# optional, but it can help to identify important milestones more\n",
    "# easily\n",
    "datalad save --version-tag setup_is_done"
   ]
  },
  {
   "cell_type": "code",
   "execution_count": 43,
   "metadata": {},
   "outputs": [
    {
     "name": "stdout",
     "output_type": "stream",
     "text": [
      "[\u001b[1;37mINFO   \u001b[0m] == Command start (output follows) ===== \n",
      "[+] Loading FSL 5.0.10 ...\n",
      "\u001b[1;1mget\u001b[0m(\u001b[1;32mnotneeded\u001b[0m): /data/rodgersleejg/datalad_demo/inputs/ds000001/sub-01/anat/sub-01_T1w.nii.gz (\u001b[1;35mfile\u001b[0m) [already present]\n",
      "\u001b[1;1mget\u001b[0m(\u001b[1;32mnotneeded\u001b[0m): /data/rodgersleejg/datalad_demo/inputs/ds000002/sub-01/anat/sub-01_T1w.nii.gz (\u001b[1;35mfile\u001b[0m) [already present]\n",
      "action summary:\n",
      "  get (notneeded: 2)\n",
      "Processing inputs/ds000001/sub-01/anat/sub-01_T1w.nii.gz\n",
      "Processing inputs/ds000002/sub-01/anat/sub-01_T1w.nii.gz\n",
      "[\u001b[1;37mINFO   \u001b[0m] == Command exit (modification check follows) ===== \n",
      "\r",
      "Total:   0%|                                        | 0.00/2.44M [00:00<?, ?B/s]\r",
      "Total:  56%|█████████████████▎             | 1.36M/2.44M [00:00<00:00, 8.11MB/s]\r",
      "Total (1 ok out of 4):  56%|████████▍      | 1.36M/2.44M [00:00<00:00, 8.11MB/s]\r",
      "Total (2 ok out of 4):  58%|████████▋      | 1.41M/2.44M [00:00<00:00, 8.11MB/s]\r",
      "Total (2 ok out of 4):  98%|██████████████▋| 2.39M/2.44M [00:00<00:00, 11.0MB/s]\r",
      "Total (3 ok out of 4):  98%|██████████████▋| 2.39M/2.44M [00:00<00:00, 11.0MB/s]\r",
      "Total (4 ok out of 4): 100%|███████████████| 2.44M/2.44M [00:00<00:00, 11.0MB/s]\r",
      "                                                                                \r",
      "\u001b[1;1madd\u001b[0m(\u001b[1;32mok\u001b[0m): 1513888804/sub-0001_anat.nii.gz (\u001b[1;35mfile\u001b[0m)\n",
      "\u001b[1;1madd\u001b[0m(\u001b[1;32mok\u001b[0m): 1513888804/sub-0001_anat_mask.nii.gz (\u001b[1;35mfile\u001b[0m)\n",
      "\u001b[1;1madd\u001b[0m(\u001b[1;32mok\u001b[0m): 1513888804/sub-0002_anat.nii.gz (\u001b[1;35mfile\u001b[0m)\n",
      "\u001b[1;1madd\u001b[0m(\u001b[1;32mok\u001b[0m): 1513888804/sub-0002_anat_mask.nii.gz (\u001b[1;35mfile\u001b[0m)\n",
      "\u001b[1;1msave\u001b[0m(\u001b[1;32mok\u001b[0m): /data/rodgersleejg/datalad_demo (\u001b[1;35mdataset\u001b[0m)\n",
      "action summary:\n",
      "  add (ok: 4)\n",
      "  save (ok: 1)\n"
     ]
    }
   ],
   "source": [
    "# Now we can run our analysis code to produce results. However, instead\n",
    "# of running it directly, we will run it with DataLad -- this will\n",
    "# automatically create a record of exactly how this script was executed\n",
    "\n",
    "# For this demo we will just run it on the structural images of\n",
    "# the first subject from each dataset. The uniform structure of the\n",
    "# datasets makes this very easy. Of course we could run it on all\n",
    "# subjects; we are simply saving some time for this demo.\n",
    "\n",
    "# While the command runs, you should notice a few things:\n",
    "\n",
    "# 1) We run this command with 'bash -e' to stop at any failure that\n",
    "# may occur\n",
    "\n",
    "# 2) You'll see the required data files being obtained as they\n",
    "# are needed -- and only those that are actually required will be\n",
    "# downloaded\n",
    "datalad run bash -e code/brain_extraction.sh inputs/ds*/sub-01/anat/sub-01_T1w.nii.gz"
   ]
  },
  {
   "cell_type": "code",
   "execution_count": 44,
   "metadata": {},
   "outputs": [
    {
     "name": "stdout",
     "output_type": "stream",
     "text": [
      "\u001b[33mcommit 3d789c3a67650eed8c5cd4999ded6939f32796d6\u001b[m\n",
      "Author: leej3 <johnleenimh@gmail.com>\n",
      "Date:   Thu Dec 21 15:41:00 2017 -0500\n",
      "\n",
      "    [DATALAD RUNCMD] bash -e code/brain_extraction.sh inputs/...\n",
      "    \n",
      "    === Do not change lines below ===\n",
      "    {\n",
      "     \"cmd\": [\n",
      "      \"bash\",\n",
      "      \"-e\",\n",
      "      \"code/brain_extraction.sh\",\n",
      "      \"inputs/ds000001/sub-01/anat/sub-01_T1w.nii.gz\",\n",
      "      \"inputs/ds000002/sub-01/anat/sub-01_T1w.nii.gz\"\n",
      "     ],\n",
      "     \"exit\": 0,\n",
      "     \"pwd\": \".\"\n",
      "    }\n",
      "    ^^^ Do not change lines above ^^^\n",
      "\n",
      " 1513888804/sub-0001_anat.nii.gz      | 1 \u001b[32m+\u001b[m\n",
      " 1513888804/sub-0001_anat_mask.nii.gz | 1 \u001b[32m+\u001b[m\n",
      " 1513888804/sub-0002_anat.nii.gz      | 1 \u001b[32m+\u001b[m\n",
      " 1513888804/sub-0002_anat_mask.nii.gz | 1 \u001b[32m+\u001b[m\n",
      " 4 files changed, 4 insertions(+)\n"
     ]
    }
   ],
   "source": [
    "# The analysis step is done, all generated results were saved in the\n",
    "# dataset. All changes, including the command that caused them are\n",
    "# on record\n",
    "git show --stat"
   ]
  },
  {
   "cell_type": "markdown",
   "metadata": {},
   "source": [
    "#### can rerun if you want (although not if you change the output directory each time)"
   ]
  },
  {
   "cell_type": "raw",
   "metadata": {},
   "source": [
    "# DataLad has enough information stored to be able to re-run a command.\n",
    "\n",
    "# On command exit, it will inspect the results and save them gain,\n",
    "# but only if they are different.\n",
    "\n",
    "# In our case, the re-run yields bit-identical results, hence nothing\n",
    "# new is saved.\n",
    "datalad run --rerun"
   ]
  },
  {
   "cell_type": "code",
   "execution_count": null,
   "metadata": {},
   "outputs": [],
   "source": []
  },
  {
   "cell_type": "markdown",
   "metadata": {},
   "source": [
    "### Assessing the repository"
   ]
  },
  {
   "cell_type": "code",
   "execution_count": 46,
   "metadata": {},
   "outputs": [],
   "source": [
    "# Now that we are done, and have checked that we can reproduce the\n",
    "# results ourselves, we can clean up\n",
    "\n",
    "# DataLad can easily verify if any part of our input dataset was\n",
    "# modified since we configured our analysis\n",
    "datalad diff --revision setup_is_done inputs"
   ]
  },
  {
   "cell_type": "code",
   "execution_count": 47,
   "metadata": {},
   "outputs": [
    {
     "name": "stdout",
     "output_type": "stream",
     "text": [
      "27M\t.\n",
      "\u001b[1;1mdrop\u001b[0m(\u001b[1;32mok\u001b[0m): /data/rodgersleejg/datalad_demo/inputs/ds000002/sub-01/anat/sub-01_T1w.nii.gz (\u001b[1;35mfile\u001b[0m) [checking http://openneuro.s3.amazonaws.com/ds000002/ds000002_R2.0.0/uncompressed/sub-01/anat/sub-01_T1w.nii.gz?versionId=vXK2.bQ360phhPqbVV_n6RMYqaWAy4Dg...]\n",
      "\u001b[1;1mdrop\u001b[0m(\u001b[1;32mok\u001b[0m): /data/rodgersleejg/datalad_demo/inputs/ds000002 (\u001b[1;35mdirectory\u001b[0m)\n",
      "\u001b[1;1muninstall\u001b[0m(\u001b[1;32mok\u001b[0m): /data/rodgersleejg/datalad_demo/inputs/ds000002 (\u001b[1;35mdataset\u001b[0m)\n",
      "\u001b[1;1mdrop\u001b[0m(\u001b[1;32mok\u001b[0m): /data/rodgersleejg/datalad_demo/inputs/ds000001/sub-01/anat/sub-01_T1w.nii.gz (\u001b[1;35mfile\u001b[0m) [checking http://openneuro.s3.amazonaws.com/ds000001/ds000001_R1.1.0/uncompressed/sub001/anatomy/highres001.nii.gz?versionId=8TJ17W9WInNkQPdiQ9vS7wo8ZJ9llF80...]\n",
      "\u001b[1;1mdrop\u001b[0m(\u001b[1;32mok\u001b[0m): /data/rodgersleejg/datalad_demo/inputs/ds000001 (\u001b[1;35mdirectory\u001b[0m)\n",
      "\u001b[1;1muninstall\u001b[0m(\u001b[1;32mok\u001b[0m): /data/rodgersleejg/datalad_demo/inputs/ds000001 (\u001b[1;35mdataset\u001b[0m)\n",
      "action summary:\n",
      "  drop (ok: 4)\n",
      "  uninstall (ok: 2)\n",
      "2.5M\t.\n"
     ]
    }
   ],
   "source": [
    "# Nothing was changed.\n",
    "\n",
    "# With DataLad with don't have to keep those inputs around -- without\n",
    "# losing the ability to reproduce an analysis.\n",
    "\n",
    "# Let's uninstall them -- checking the size on disk before and after\n",
    "du -sh\n",
    "datalad uninstall inputs/*\n",
    "du -sh ."
   ]
  },
  {
   "cell_type": "code",
   "execution_count": 49,
   "metadata": {},
   "outputs": [],
   "source": [
    "# All inputs are gone...\n",
    "ls inputs/*"
   ]
  },
  {
   "cell_type": "markdown",
   "metadata": {},
   "source": [
    "#### more rerunning"
   ]
  },
  {
   "cell_type": "raw",
   "metadata": {},
   "source": [
    "# Only the remaining data (our code and the results) need to be kept\n",
    "# and require a backup for long term archival. Everything else can\n",
    "# be re-obtained as needed, when needed.\n",
    "\n",
    "# As DataLad knows everything needed about the inputs, including where\n",
    "# to get the right version, we can re-run the analysis with a single\n",
    "# command. Watch how DataLad re-obtains all required data, re-runs\n",
    "# the code, and checks that none of the results changed and need saving\n",
    "datalad run --rerun\n",
    "\n",
    "# Reproduced!\n",
    "\n",
    "# This dataset could now be published and enable anyone to replicate\n",
    "# the exact same analysis. Public data for the win!"
   ]
  },
  {
   "cell_type": "code",
   "execution_count": null,
   "metadata": {},
   "outputs": [],
   "source": []
  },
  {
   "cell_type": "markdown",
   "metadata": {},
   "source": [
    "## To track changes in submodule but use datalad to write to the repo from the project directory"
   ]
  },
  {
   "cell_type": "markdown",
   "metadata": {},
   "source": [
    "This will result in checkouts not being able to revert the repository to a previous state."
   ]
  },
  {
   "cell_type": "raw",
   "metadata": {},
   "source": [
    "datalad create -d . code_subdataset\n",
    "cp code/brain_extraction.sh code_subdataset/\n",
    "datalad add -m \"track code in sub dataset\" code_subdataset\n"
   ]
  },
  {
   "cell_type": "markdown",
   "metadata": {},
   "source": [
    "# Working with remotes"
   ]
  },
  {
   "cell_type": "markdown",
   "metadata": {},
   "source": [
    "# add a sibling repository"
   ]
  },
  {
   "cell_type": "code",
   "execution_count": 51,
   "metadata": {},
   "outputs": [
    {
     "name": "stdout",
     "output_type": "stream",
     "text": [
      "[\u001b[1;37mINFO   \u001b[0m] Cloning //data/rodgersleejg/datalad_demo to '/data/rodgersleejg/datalad_demo_2' \n",
      "\u001b[1;1minstall\u001b[0m(\u001b[1;32mok\u001b[0m): /data/rodgersleejg/datalad_demo_2 (\u001b[1;35mdataset\u001b[0m)\n",
      "[\u001b[1;37mINFO   \u001b[0m] Installing <Dataset path=/data/rodgersleejg/datalad_demo_2> recursively \n",
      "[\u001b[1;37mINFO   \u001b[0m] Cloning //data/rodgersleejg/datalad_demo/inputs/ds000001 to '/data/rodgersleejg/datalad_demo_2/inputs/ds000001' \n",
      "[\u001b[1;37mINFO   \u001b[0m] access to dataset sibling \"datalad\" not auto-enabled, enable with:\n",
      "| \t\tdatalad siblings -d \"/data/rodgersleejg/datalad_demo_2/inputs/ds000001\" enable -s datalad \n",
      "\u001b[1;1minstall\u001b[0m(\u001b[1;32mok\u001b[0m): inputs/ds000001 (\u001b[1;35mdataset\u001b[0m) [Installed subdataset <Dataset path=/data/rodgersleejg/datalad_demo_2/inputs/ds000001>]\n",
      "[\u001b[1;37mINFO   \u001b[0m] Cloning //data/rodgersleejg/datalad_demo/inputs/ds000002 to '/data/rodgersleejg/datalad_demo_2/inputs/ds000002' \n",
      "[\u001b[1;37mINFO   \u001b[0m] access to dataset sibling \"datalad\" not auto-enabled, enable with:\n",
      "| \t\tdatalad siblings -d \"/data/rodgersleejg/datalad_demo_2/inputs/ds000002\" enable -s datalad \n",
      "\u001b[1;1minstall\u001b[0m(\u001b[1;32mok\u001b[0m): inputs/ds000002 (\u001b[1;35mdataset\u001b[0m) [Installed subdataset <Dataset path=/data/rodgersleejg/datalad_demo_2/inputs/ds000002>]\n",
      "action summary:\n",
      "  install (ok: 3)\n"
     ]
    }
   ],
   "source": [
    "cd /data/rodgersleejg\n",
    "datalad install -r --source //data/rodgersleejg/datalad_demo datalad_demo_2\n",
    "cd datalad_demo_2"
   ]
  },
  {
   "cell_type": "code",
   "execution_count": 52,
   "metadata": {},
   "outputs": [
    {
     "name": "stdout",
     "output_type": "stream",
     "text": [
      "1513888804  code  inputs\n"
     ]
    }
   ],
   "source": [
    "ls"
   ]
  },
  {
   "cell_type": "code",
   "execution_count": 53,
   "metadata": {},
   "outputs": [
    {
     "name": "stdout",
     "output_type": "stream",
     "text": [
      ".: here(+) [git]\n",
      ".: origin(+) [//data/rodgersleejg/datalad_demo (git)]\n"
     ]
    }
   ],
   "source": [
    "datalad siblings"
   ]
  },
  {
   "cell_type": "markdown",
   "metadata": {},
   "source": [
    "### adding sibling to original"
   ]
  },
  {
   "cell_type": "code",
   "execution_count": 55,
   "metadata": {},
   "outputs": [
    {
     "name": "stdout",
     "output_type": "stream",
     "text": [
      ".: second_copy(+) [/data/rodgersleejg/datalad_demo_2 (git)]\n"
     ]
    }
   ],
   "source": [
    "cd /data/rodgersleejg/datalad_demo\n",
    "datalad siblings add -s second_copy --url /data/rodgersleejg/datalad_demo_2"
   ]
  },
  {
   "cell_type": "code",
   "execution_count": 56,
   "metadata": {},
   "outputs": [],
   "source": [
    "echo \"pi=3.14\" > file_written_in_repo_1.txt"
   ]
  },
  {
   "cell_type": "code",
   "execution_count": 57,
   "metadata": {},
   "outputs": [
    {
     "name": "stdout",
     "output_type": "stream",
     "text": [
      "\r",
      "Total:   0%|                                         | 0.00/8.00 [00:00<?, ?B/s]\r",
      "                                                                                \r",
      "\u001b[1;1msave\u001b[0m(\u001b[1;32mok\u001b[0m): /data/rodgersleejg/datalad_demo (\u001b[1;35mdataset\u001b[0m)\n"
     ]
    }
   ],
   "source": [
    "datalad save -m \"add test file in first repo\" file_written_in_repo_1.txt"
   ]
  },
  {
   "cell_type": "code",
   "execution_count": 58,
   "metadata": {},
   "outputs": [
    {
     "name": "stdout",
     "output_type": "stream",
     "text": [
      "\u001b[33mcommit 373ef865b76f10ffd28829e89810150921ec8710\u001b[m\n",
      "Author: leej3 <johnleenimh@gmail.com>\n",
      "Date:   Thu Dec 21 15:52:00 2017 -0500\n",
      "\n",
      "    add test file in first repo\n",
      "\n",
      " file_written_in_repo_1.txt | 1 \u001b[32m+\u001b[m\n",
      " 1 file changed, 1 insertion(+)\n"
     ]
    }
   ],
   "source": [
    "git show --stat"
   ]
  },
  {
   "cell_type": "markdown",
   "metadata": {},
   "source": [
    "### syncing from original repo"
   ]
  },
  {
   "cell_type": "code",
   "execution_count": 59,
   "metadata": {},
   "outputs": [
    {
     "name": "stdout",
     "output_type": "stream",
     "text": [
      "[\u001b[1;37mINFO   \u001b[0m] Updating dataset '/gpfs/gsfs5/users/rodgersleejg/datalad_demo_2' ... \n",
      "[\u001b[1;37mINFO   \u001b[0m] Merging updates... \n",
      "\u001b[1;1mupdate\u001b[0m(\u001b[1;32mok\u001b[0m): . (\u001b[1;35mdataset\u001b[0m)\n"
     ]
    }
   ],
   "source": [
    "cd /data/rodgersleejg/datalad_demo_2\n",
    "datalad update -s origin --merge"
   ]
  },
  {
   "cell_type": "code",
   "execution_count": 60,
   "metadata": {},
   "outputs": [
    {
     "name": "stdout",
     "output_type": "stream",
     "text": [
      "\u001b[33mcommit 373ef865b76f10ffd28829e89810150921ec8710\u001b[m\n",
      "Author: leej3 <johnleenimh@gmail.com>\n",
      "Date:   Thu Dec 21 15:52:00 2017 -0500\n",
      "\n",
      "    add test file in first repo\n",
      "\n",
      " file_written_in_repo_1.txt | 1 \u001b[32m+\u001b[m\n",
      " 1 file changed, 1 insertion(+)\n"
     ]
    }
   ],
   "source": [
    "git show --stat"
   ]
  },
  {
   "cell_type": "code",
   "execution_count": null,
   "metadata": {},
   "outputs": [],
   "source": []
  },
  {
   "cell_type": "code",
   "execution_count": 61,
   "metadata": {},
   "outputs": [
    {
     "name": "stdout",
     "output_type": "stream",
     "text": [
      "\r",
      "Total:   0%|                                        | 0.00/1.41M [00:00<?, ?B/s]\r",
      "Total:  97%|█████████████████████████████▉ | 1.36M/1.41M [00:00<00:00, 3.76MB/s]\r",
      "Total (1 ok out of 2):  97%|██████████████▌| 1.36M/1.41M [00:00<00:00, 3.76MB/s]\r",
      "Total (2 ok out of 2): 100%|███████████████| 1.41M/1.41M [00:00<00:00, 3.76MB/s]\r",
      "                                                                                \r",
      "\u001b[1;1mget\u001b[0m(\u001b[1;32mok\u001b[0m): /gpfs/gsfs5/users/rodgersleejg/datalad_demo_2/1513888804/sub-0001_anat.nii.gz (\u001b[1;35mfile\u001b[0m)\n",
      "\u001b[1;1mget\u001b[0m(\u001b[1;32mok\u001b[0m): /gpfs/gsfs5/users/rodgersleejg/datalad_demo_2/1513888804/sub-0001_anat_mask.nii.gz (\u001b[1;35mfile\u001b[0m)\n",
      "action summary:\n",
      "  get (ok: 2)\n"
     ]
    }
   ],
   "source": [
    "datalad get ./*/sub-0001*"
   ]
  }
 ],
 "metadata": {
  "kernelspec": {
   "display_name": "Bash",
   "language": "bash",
   "name": "bash"
  },
  "language_info": {
   "codemirror_mode": "shell",
   "file_extension": ".sh",
   "mimetype": "text/x-sh",
   "name": "bash"
  }
 },
 "nbformat": 4,
 "nbformat_minor": 2
}
