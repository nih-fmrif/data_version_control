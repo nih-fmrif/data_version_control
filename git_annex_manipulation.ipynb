{
 "cells": [
  {
   "cell_type": "code",
   "execution_count": 1,
   "metadata": {},
   "outputs": [],
   "source": [
    "rehashx"
   ]
  },
  {
   "cell_type": "code",
   "execution_count": 2,
   "metadata": {},
   "outputs": [
    {
     "name": "stdout",
     "output_type": "stream",
     "text": [
      "git-annex version: 6.20171124\r\n",
      "build flags: Assistant Webapp Pairing Testsuite S3(multipartupload)(storageclasses) WebDAV FsEvents TorrentParser MagicMime Feeds Quvi\r\n",
      "dependency versions: aws-0.17.1 bloomfilter-2.0.1.0 cryptonite-0.24 DAV-1.3.1 feed-1.0.0.0 ghc-8.2.2 http-client-0.5.7.1 persistent-sqlite-2.6.3.1 torrent-10000.1.1 uuid-1.3.13 yesod-1.4.5\r\n",
      "key/value backends: SHA256E SHA256 SHA512E SHA512 SHA224E SHA224 SHA384E SHA384 SHA3_256E SHA3_256 SHA3_512E SHA3_512 SHA3_224E SHA3_224 SHA3_384E SHA3_384 SKEIN256E SKEIN256 SKEIN512E SKEIN512 SHA1E SHA1 MD5E MD5 WORM URL\r\n",
      "remote types: git gcrypt p2p S3 bup directory rsync web bittorrent webdav tahoe glacier ddar hook external\r\n",
      "local repository version: unknown\r\n",
      "supported repository versions: 3 5 6\r\n",
      "upgrade supported from repository versions: 0 1 2 3 4 5\r\n",
      "operating system: darwin x86_64\r\n"
     ]
    }
   ],
   "source": [
    "git annex version"
   ]
  },
  {
   "cell_type": "code",
   "execution_count": 3,
   "metadata": {},
   "outputs": [],
   "source": [
    "mkdir annex_recover_test"
   ]
  },
  {
   "cell_type": "code",
   "execution_count": 4,
   "metadata": {},
   "outputs": [
    {
     "name": "stdout",
     "output_type": "stream",
     "text": [
      "/Users/zhengchy/github/data_version_control/annex_recover_test\n"
     ]
    }
   ],
   "source": [
    "cd annex_recover_test/"
   ]
  },
  {
   "cell_type": "code",
   "execution_count": 5,
   "metadata": {},
   "outputs": [
    {
     "name": "stdout",
     "output_type": "stream",
     "text": [
      "Initialized empty Git repository in /Users/zhengchy/github/data_version_control/annex_recover_test/.git/\r\n"
     ]
    }
   ],
   "source": [
    "git init"
   ]
  },
  {
   "cell_type": "code",
   "execution_count": 6,
   "metadata": {},
   "outputs": [
    {
     "name": "stdout",
     "output_type": "stream",
     "text": [
      "init  ok\r\n",
      "(recording state in git...)\r\n"
     ]
    }
   ],
   "source": [
    "git annex init"
   ]
  },
  {
   "cell_type": "code",
   "execution_count": 7,
   "metadata": {},
   "outputs": [],
   "source": [
    "touch f.txt"
   ]
  },
  {
   "cell_type": "code",
   "execution_count": 8,
   "metadata": {},
   "outputs": [],
   "source": [
    "echo \"pi=3.14\" > f.txt"
   ]
  },
  {
   "cell_type": "code",
   "execution_count": 9,
   "metadata": {},
   "outputs": [
    {
     "name": "stdout",
     "output_type": "stream",
     "text": [
      "pi=3.14\r\n"
     ]
    }
   ],
   "source": [
    "cat f.txt"
   ]
  },
  {
   "cell_type": "code",
   "execution_count": 10,
   "metadata": {},
   "outputs": [
    {
     "name": "stdout",
     "output_type": "stream",
     "text": [
      "add f.txt ok\r\n",
      "(recording state in git...)\r\n"
     ]
    }
   ],
   "source": [
    "git annex add f.txt"
   ]
  },
  {
   "cell_type": "code",
   "execution_count": 11,
   "metadata": {},
   "outputs": [
    {
     "name": "stdout",
     "output_type": "stream",
     "text": [
      "On branch master\r\n",
      "\r\n",
      "No commits yet\r\n",
      "\r\n",
      "Changes to be committed:\r\n",
      "  (use \"git rm --cached <file>...\" to unstage)\r\n",
      "\r\n",
      "\t\u001b[32mnew file:   f.txt\u001b[m\r\n",
      "\r\n"
     ]
    }
   ],
   "source": [
    "git status"
   ]
  },
  {
   "cell_type": "code",
   "execution_count": 12,
   "metadata": {},
   "outputs": [
    {
     "name": "stdout",
     "output_type": "stream",
     "text": [
      "[master (root-commit) 6ccf00c] annexed a file\r\n",
      " 1 file changed, 1 insertion(+)\r\n",
      " create mode 120000 f.txt\r\n"
     ]
    }
   ],
   "source": [
    "git commit -m \"annexed a file\""
   ]
  },
  {
   "cell_type": "code",
   "execution_count": 13,
   "metadata": {},
   "outputs": [],
   "source": [
    "git tag \"version.1\""
   ]
  },
  {
   "cell_type": "markdown",
   "metadata": {},
   "source": [
    "# Changing an annexed file and recovering the previous version"
   ]
  },
  {
   "cell_type": "code",
   "execution_count": 14,
   "metadata": {},
   "outputs": [
    {
     "name": "stdout",
     "output_type": "stream",
     "text": [
      "unlock f.txt (copying...) ok\r\n"
     ]
    }
   ],
   "source": [
    "git annex unlock f.txt"
   ]
  },
  {
   "cell_type": "code",
   "execution_count": 15,
   "metadata": {},
   "outputs": [],
   "source": [
    "echo \"pi=3.00\" > f.txt"
   ]
  },
  {
   "cell_type": "code",
   "execution_count": 16,
   "metadata": {},
   "outputs": [
    {
     "name": "stdout",
     "output_type": "stream",
     "text": [
      "pi=3.00\r\n"
     ]
    }
   ],
   "source": [
    "cat f.txt"
   ]
  },
  {
   "cell_type": "code",
   "execution_count": 17,
   "metadata": {},
   "outputs": [
    {
     "name": "stdout",
     "output_type": "stream",
     "text": [
      "add f.txt ok\r\n",
      "(recording state in git...)\r\n"
     ]
    }
   ],
   "source": [
    "git annex add f.txt"
   ]
  },
  {
   "cell_type": "code",
   "execution_count": 18,
   "metadata": {},
   "outputs": [
    {
     "name": "stdout",
     "output_type": "stream",
     "text": [
      "[master a22a063] in Indiana..\r\n",
      " 1 file changed, 1 insertion(+), 1 deletion(-)\r\n"
     ]
    }
   ],
   "source": [
    "git commit -m \"in Indiana..\""
   ]
  },
  {
   "cell_type": "code",
   "execution_count": 19,
   "metadata": {},
   "outputs": [],
   "source": [
    "git tag \"version.IN\""
   ]
  },
  {
   "cell_type": "code",
   "execution_count": 20,
   "metadata": {},
   "outputs": [
    {
     "name": "stdout",
     "output_type": "stream",
     "text": [
      "pi=3.00\r\n"
     ]
    }
   ],
   "source": [
    "cat f.txt"
   ]
  },
  {
   "cell_type": "code",
   "execution_count": 21,
   "metadata": {},
   "outputs": [
    {
     "name": "stdout",
     "output_type": "stream",
     "text": [
      "Note: checking out 'version.1'.\r\n",
      "\r\n",
      "You are in 'detached HEAD' state. You can look around, make experimental\r\n",
      "changes and commit them, and you can discard any commits you make in this\r\n",
      "state without impacting any branches by performing another checkout.\r\n",
      "\r\n",
      "If you want to create a new branch to retain commits you create, you may\r\n",
      "do so (now or later) by using -b with the checkout command again. Example:\r\n",
      "\r\n",
      "  git checkout -b <new-branch-name>\r\n",
      "\r\n",
      "HEAD is now at 6ccf00c... annexed a file\r\n"
     ]
    }
   ],
   "source": [
    "git checkout version.1"
   ]
  },
  {
   "cell_type": "code",
   "execution_count": 22,
   "metadata": {},
   "outputs": [
    {
     "name": "stdout",
     "output_type": "stream",
     "text": [
      "pi=3.14\r\n"
     ]
    }
   ],
   "source": [
    "cat f.txt"
   ]
  },
  {
   "cell_type": "code",
   "execution_count": 23,
   "metadata": {},
   "outputs": [
    {
     "name": "stdout",
     "output_type": "stream",
     "text": [
      "\u001b[1mdiff --git a/f.txt b/f.txt\u001b[m\r\n",
      "\u001b[1mindex 8e69049..6b6e80e 120000\u001b[m\r\n",
      "\u001b[1m--- a/f.txt\u001b[m\r\n",
      "\u001b[1m+++ b/f.txt\u001b[m\r\n",
      "\u001b[36m@@ -1 +1 @@\u001b[m\r\n",
      "\u001b[31m-.git/annex/objects/vj/kj/SHA256E-s8--85919df47139613d470ede30a288a4f8fba14b26af4fcc751f054d6f1284c94e.txt/SHA256E-s8--85919df47139613d470ede30a288a4f8fba14b26af4fcc751f054d6f1284c94e.txt\u001b[m\r\n",
      "\\ No newline at end of file\u001b[m\r\n",
      "\u001b[32m+\u001b[m\u001b[32m.git/annex/objects/fx/Jz/SHA256E-s8--82c36e22e9af39db0d1b9eb6f250260ac181cb763a42b5af356743bfc646d66b.txt/SHA256E-s8--82c36e22e9af39db0d1b9eb6f250260ac181cb763a42b5af356743bfc646d66b.txt\u001b[m\r\n",
      "\\ No newline at end of file\u001b[m\r\n"
     ]
    }
   ],
   "source": [
    "git diff version.1 version.IN f.txt"
   ]
  },
  {
   "cell_type": "markdown",
   "metadata": {},
   "source": [
    "# Changing from annex to classic git"
   ]
  },
  {
   "cell_type": "code",
   "execution_count": 24,
   "metadata": {},
   "outputs": [
    {
     "name": "stdout",
     "output_type": "stream",
     "text": [
      "Previous HEAD position was 6ccf00c... annexed a file\r\n",
      "Switched to branch 'master'\r\n"
     ]
    }
   ],
   "source": [
    "git checkout master"
   ]
  },
  {
   "cell_type": "code",
   "execution_count": 25,
   "metadata": {},
   "outputs": [
    {
     "name": "stdout",
     "output_type": "stream",
     "text": [
      "unlock f.txt (copying...) ok\r\n"
     ]
    }
   ],
   "source": [
    "git annex unlock f.txt"
   ]
  },
  {
   "cell_type": "code",
   "execution_count": 26,
   "metadata": {},
   "outputs": [
    {
     "name": "stdout",
     "output_type": "stream",
     "text": [
      "rm 'f.txt'\r\n"
     ]
    }
   ],
   "source": [
    "git rm f.txt --cached"
   ]
  },
  {
   "cell_type": "code",
   "execution_count": 27,
   "metadata": {},
   "outputs": [
    {
     "name": "stdout",
     "output_type": "stream",
     "text": [
      "[master 0b78513] you have to commit after git rm to remove it for sure\r\n",
      " 1 file changed, 1 deletion(-)\r\n",
      " delete mode 120000 f.txt\r\n"
     ]
    }
   ],
   "source": [
    "git commit -m \"you have to commit after git rm to remove it for sure\""
   ]
  },
  {
   "cell_type": "code",
   "execution_count": 28,
   "metadata": {},
   "outputs": [],
   "source": [
    "git add f.txt"
   ]
  },
  {
   "cell_type": "code",
   "execution_count": 29,
   "metadata": {},
   "outputs": [
    {
     "name": "stdout",
     "output_type": "stream",
     "text": [
      "On branch master\r\n",
      "Changes to be committed:\r\n",
      "  (use \"git reset HEAD <file>...\" to unstage)\r\n",
      "\r\n",
      "\t\u001b[32mnew file:   f.txt\u001b[m\r\n",
      "\r\n"
     ]
    }
   ],
   "source": [
    "git status"
   ]
  },
  {
   "cell_type": "code",
   "execution_count": 30,
   "metadata": {},
   "outputs": [],
   "source": [
    "git add f.txt"
   ]
  },
  {
   "cell_type": "code",
   "execution_count": 31,
   "metadata": {},
   "outputs": [
    {
     "name": "stdout",
     "output_type": "stream",
     "text": [
      "[master 2dfc911] added f as a regular file\r\n",
      " 1 file changed, 1 insertion(+)\r\n",
      " create mode 100644 f.txt\r\n"
     ]
    }
   ],
   "source": [
    "git commit -m \"added f as a regular file\""
   ]
  },
  {
   "cell_type": "code",
   "execution_count": 32,
   "metadata": {},
   "outputs": [
    {
     "name": "stdout",
     "output_type": "stream",
     "text": [
      "Switched to a new branch 'temp_branch'\r\n"
     ]
    }
   ],
   "source": [
    "git checkout -b temp_branch"
   ]
  },
  {
   "cell_type": "code",
   "execution_count": 33,
   "metadata": {},
   "outputs": [
    {
     "name": "stdout",
     "output_type": "stream",
     "text": [
      "Switched to branch 'master'\r\n"
     ]
    }
   ],
   "source": [
    "git checkout master"
   ]
  },
  {
   "cell_type": "code",
   "execution_count": 34,
   "metadata": {},
   "outputs": [
    {
     "name": "stdout",
     "output_type": "stream",
     "text": [
      "Already up-to-date.\r\n"
     ]
    }
   ],
   "source": [
    "git merge temp_branch"
   ]
  },
  {
   "cell_type": "code",
   "execution_count": 35,
   "metadata": {},
   "outputs": [
    {
     "name": "stdout",
     "output_type": "stream",
     "text": [
      "On branch master\r\n",
      "nothing to commit, working tree clean\r\n"
     ]
    }
   ],
   "source": [
    "git status"
   ]
  },
  {
   "cell_type": "code",
   "execution_count": 36,
   "metadata": {},
   "outputs": [
    {
     "name": "stdout",
     "output_type": "stream",
     "text": [
      "\u001b[1mdiff --git a/f.txt b/f.txt\u001b[m\r\n",
      "\u001b[1mdeleted file mode 120000\u001b[m\r\n",
      "\u001b[1mindex 6b6e80e..0000000\u001b[m\r\n",
      "\u001b[1m--- a/f.txt\u001b[m\r\n",
      "\u001b[1m+++ /dev/null\u001b[m\r\n",
      "\u001b[36m@@ -1 +0,0 @@\u001b[m\r\n",
      "\u001b[31m-.git/annex/objects/fx/Jz/SHA256E-s8--82c36e22e9af39db0d1b9eb6f250260ac181cb763a42b5af356743bfc646d66b.txt/SHA256E-s8--82c36e22e9af39db0d1b9eb6f250260ac181cb763a42b5af356743bfc646d66b.txt\u001b[m\r\n",
      "\\ No newline at end of file\u001b[m\r\n",
      "\u001b[1mdiff --git a/f.txt b/f.txt\u001b[m\r\n",
      "\u001b[1mnew file mode 100644\u001b[m\r\n",
      "\u001b[1mindex 0000000..64c5b65\u001b[m\r\n",
      "\u001b[1m--- /dev/null\u001b[m\r\n",
      "\u001b[1m+++ b/f.txt\u001b[m\r\n",
      "\u001b[36m@@ -0,0 +1 @@\u001b[m\r\n",
      "\u001b[32m+\u001b[m\u001b[32mpi=3.00\u001b[m\r\n"
     ]
    }
   ],
   "source": [
    "git diff version.IN master f.txt"
   ]
  },
  {
   "cell_type": "code",
   "execution_count": 37,
   "metadata": {},
   "outputs": [
    {
     "name": "stdout",
     "output_type": "stream",
     "text": [
      "-rw-r--r--  1 zhengchy  NIH\\Domain Users  8 Dec 21 16:11 f.txt\r\n"
     ]
    }
   ],
   "source": [
    "ls -l f.txt"
   ]
  },
  {
   "cell_type": "code",
   "execution_count": null,
   "metadata": {},
   "outputs": [],
   "source": []
  }
 ],
 "metadata": {
  "kernelspec": {
   "display_name": "Python 3",
   "language": "python",
   "name": "python3"
  },
  "language_info": {
   "codemirror_mode": {
    "name": "ipython",
    "version": 3
   },
   "file_extension": ".py",
   "mimetype": "text/x-python",
   "name": "python",
   "nbconvert_exporter": "python",
   "pygments_lexer": "ipython3",
   "version": "3.6.3"
  }
 },
 "nbformat": 4,
 "nbformat_minor": 2
}
